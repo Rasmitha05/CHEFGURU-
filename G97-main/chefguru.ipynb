{
  "cells": [
    {
      "cell_type": "code",
      "execution_count": null,
      "metadata": {
        "colab": {
          "base_uri": "https://localhost:8080/"
        },
        "id": "wmby1x0kwYMv",
        "outputId": "4b840039-0bf1-4ba1-d71d-8871f92c6521"
      },
      "outputs": [],
      "source": [
        "%pip install fastapi[all] uvicorn python-multipart transformers pydantic tensorflow"
      ]
    },
    {
      "cell_type": "code",
      "execution_count": null,
      "metadata": {
        "colab": {
          "base_uri": "https://localhost:8080/"
        },
        "id": "GKBLm6knwd3Z",
        "outputId": "1df81785-ab86-477f-dfee-4e4d6c472424"
      },
      "outputs": [],
      "source": [
        "!curl -s https://ngrok-agent.s3.amazonaws.com/ngrok.asc | gpg --import -\n",
        "\n",
        "!echo \"deb https://ngrok-agent.s3.amazonaws.com buster main\" | sudo tee /etc/apt/sources.list.d/ngrok.list\n",
        "\n",
        "!sudo apt-key adv --keyserver keyserver.ubuntu.com --recv-keys 0E61D3BBAAEE37FE\n",
        "\n",
        "!sudo apt-get update\n",
        "\n",
        "!sudo apt-get install ngrok"
      ]
    },
    {
      "cell_type": "code",
      "execution_count": null,
      "metadata": {
        "colab": {
          "base_uri": "https://localhost:8080/"
        },
        "id": "HRFKaacNwh-R",
        "outputId": "fee6c1b2-dce8-49a7-cc41-34ef0ec54bfe"
      },
      "outputs": [],
      "source": [
        "%%writefile app.py\n",
        "\n",
        "from fastapi import FastAPI, Request\n",
        "from pydantic import BaseModel\n",
        "from fastapi.responses import JSONResponse\n",
        "from fastapi import Depends\n",
        "import json\n",
        "from transformers import AutoTokenizer, LlamaForCausalLM, GenerationConfig\n",
        "import torch\n",
        "from time import perf_counter\n",
        "import re\n",
        "\n",
        "app = FastAPI()\n",
        "\n",
        "class chef_guru:\n",
        "    id = \"BossBattlar/G97\"\n",
        "    def __init__(self):\n",
        "\n",
        "        model_name = self.id\n",
        "        device = torch.device(\"cuda\" if torch.cuda.is_available() else \"cpu\")\n",
        "        # device=\"cpu\"\n",
        "        print(\"[NOTE] GPU avilable\") if device==\"cuda\" else print(\"[NOTE] Running on CPU\")\n",
        "        print(\"[GET] model\")\n",
        "        self.model = LlamaForCausalLM.from_pretrained(model_name).to(device)\n",
        "        print(\"[SUCCESS] Got Model\")\n",
        "        print(\"[GET] tokenizer\")\n",
        "        self.tokenizer = AutoTokenizer.from_pretrained(model_name)\n",
        "        print(\"[SUCCESS] Got tokenizer\")\n",
        "\n",
        "    def formated_prompt(self,quest):\n",
        "        return f\"<user>user:\\n{quest}\\n<assistant>assistant:\\n\"\n",
        "\n",
        "    def generate_resp(self,user_input):\n",
        "        prompt = self.formated_prompt(user_input)\n",
        "        inputs = self.tokenizer([prompt], return_tensors=\"pt\")\n",
        "        generation_config = GenerationConfig(penalty_alpha=0.6,do_sample=True,\n",
        "                                        max_new_tokens=1024,pad_token_id=self.tokenizer.eos_token_id)\n",
        "        start_time = perf_counter()\n",
        "        inputs = self.tokenizer(prompt, return_tensors=\"pt\").to('cuda')\n",
        "        outputs = self.model.generate(**inputs,generation_config=generation_config)\n",
        "        output_time = perf_counter() - start_time\n",
        "        print(\"Time taken \",round(output_time,2))\n",
        "        return self.tokenizer.decode(outputs[0],skip_special_tokens=True)\n",
        "\n",
        "\n",
        "class Req(BaseModel):\n",
        "    ip: str\n",
        "\n",
        "KitchenWizard = ''\n",
        "\n",
        "def in_bet(s, word1, word2):\n",
        "    parts = s.split(word1, 1)\n",
        "    if len(parts) < 2:\n",
        "        return None, None, None\n",
        "    before = parts[0].strip()\n",
        "    rest = parts[1].strip()\n",
        "    parts = rest.split(word2, 1)\n",
        "    if len(parts) < 2:\n",
        "        return before, None, rest\n",
        "    between = parts[0].strip()\n",
        "    after = parts[1].strip()\n",
        "    return before, between, after\n",
        "\n",
        "def parse_resp(data):\n",
        "    user_data = data.split(\"<user>\")[1].split(\"<assistant>\")[0].strip()\n",
        "    _,disc,_ = in_bet(data,\"<assistant>assistant:\",\"Ingredients:\")\n",
        "    ingredisnt = data.split(\"Ingredients:\")[1].strip()\n",
        "\n",
        "    ingredients = []\n",
        "    for line in ingredisnt.splitlines():\n",
        "        if(line ==  'instructions:'):\n",
        "            break\n",
        "        ingredients.append(line)\n",
        "\n",
        "    instructions = []\n",
        "    steps = re.split(r'\\d+\\.\\s+', data)\n",
        "    instructions = [f\"{i}. {step.strip()}\" for i, step in enumerate(steps) if step.strip()]\n",
        "\n",
        "    recipe = {\n",
        "        \"disctiption\": disc,\n",
        "        'ingredients': ingredients,\n",
        "        'instructions': instructions\n",
        "    }\n",
        "    return recipe\n",
        "\n",
        "# @app.on_event(\"startup\")\n",
        "def startup():\n",
        "    print(\"[SERVER] Starting\")\n",
        "    global KitchenWizard\n",
        "    KitchenWizard = chef_guru()\n",
        "    print(\"[HUMAN] Model Build Successfull 😁\")\n",
        "startup()\n",
        "# @app.on_event(\"before_server_start\")\n",
        "def before_server_start():\n",
        "    print(\"[Chef Guru] Hello World! 🤖\")\n",
        "\n",
        "@app.get(\"/\")\n",
        "async def home():\n",
        "    return {\"status\": \"alive\"}\n",
        "@app.get(\"/chast/bot/{data}\")\n",
        "async def chat(data):\n",
        "    print(data,type(data))\n",
        "    data = json.loads(data)\n",
        "    resp = parse_resp(KitchenWizard.generate_resp(data[\"data\"]))\n",
        "    print(data,resp)\n",
        "    return JSONResponse({\"message\": \"Hello World\", \"data\": resp})\n",
        "@app.post(\"/chat/bot\")\n",
        "async def chats(req:Req):\n",
        "    print(req.ip)\n",
        "    generated = KitchenWizard.generate_resp(req.ip)\n",
        "    print(generated)\n",
        "    try:\n",
        "      resp=parse_resp(generated)\n",
        "    except:\n",
        "      resp={\n",
        "        \"discription\":\"why don't you name it your self\",\n",
        "        'ingredients': [],\n",
        "        'instructions': []\n",
        "      }\n",
        "      _,_,res=in_bet(generated,'<user>user:','<assistant>assistant:')\n",
        "      for line in res.split('\\n'):\n",
        "          if len(line)<50 :\n",
        "            resp[\"ingredients\"].append(line)\n",
        "          else:\n",
        "            resp[\"instructions\"].append(line)\n",
        "    return resp\n",
        "@app.post('/hello')\n",
        "async def hay(req:Request):\n",
        "    res = await req.body()\n",
        "    return json.loads(res)\n",
        "\n",
        "# @app.on_event(\"shutdown\")\n",
        "\n",
        "def shutdown():\n",
        "    print(\"[SERVER] shutdown\")\n"
      ]
    },
    {
      "cell_type": "code",
      "execution_count": null,
      "metadata": {
        "colab": {
          "base_uri": "https://localhost:8080/"
        },
        "id": "GXUz5FqIwg8q",
        "outputId": "fd62ed30-73db-4a9e-a4a6-4e794c321c8a"
      },
      "outputs": [],
      "source": [
        "!ngrok authtoken 2ijS0LEIR5USBAHspOV28MMoXxT_5z5daMZhtCbSWr7gaoHCB"
      ]
    },
    {
      "cell_type": "code",
      "execution_count": null,
      "metadata": {
        "colab": {
          "base_uri": "https://localhost:8080/",
          "height": 66,
          "referenced_widgets": [
            "381f9563bcb04be98ed10ea472536fab",
            "060eb95b67e44c91aca9adfc82937f89",
            "4fa69c23320b4665a15a8d262088cecd"
          ]
        },
        "id": "ViVfi97Hwjrj",
        "outputId": "3b8d63cf-d3cd-4336-e8dd-6c91a333a266"
      },
      "outputs": [],
      "source": [
        "import subprocess\n",
        "import time\n",
        "\n",
        "from ipywidgets import HTML\n",
        "from IPython.display import display\n",
        "\n",
        "t = HTML(\n",
        "    value=\"0 Seconds\",\n",
        "    description = 'Server is Starting Up... Elapsed Time:' ,\n",
        "    style={'description_width': 'initial'},\n",
        ")\n",
        "display(t)\n",
        "\n",
        "flag = True\n",
        "timer = 0\n",
        "\n",
        "try:\n",
        "    subprocess.check_output(['curl',\"localhost:8000\"])\n",
        "    flag = False\n",
        "except:\n",
        "    get_ipython().system_raw('uvicorn app:app --host 127.0.0.1 --port 8000 > server.log 2>&1 &')\n",
        "\n",
        "res = \"\"\n",
        "\n",
        "while(flag and timer < 600):\n",
        "  try:\n",
        "    subprocess.check_output(['curl',\"localhost:8000\"])\n",
        "  except:\n",
        "    time.sleep(1)\n",
        "    timer+= 1\n",
        "    t.value = str(timer) + \" Seconds\"\n",
        "    pass\n",
        "  else:\n",
        "    flag = False\n",
        "\n",
        "if(timer >= 600):\n",
        "  print(\"Error: timed out! took more then 10 minutes :(\")\n",
        "subprocess.check_output(['curl',\"localhost:8000\"])"
      ]
    },
    {
      "cell_type": "code",
      "execution_count": null,
      "metadata": {
        "colab": {
          "base_uri": "https://localhost:8080/"
        },
        "id": "V5usLfywwmmq",
        "outputId": "79777b86-656c-4f1b-bef4-a1c16617e8f5"
      },
      "outputs": [],
      "source": [
        "import subprocess\n",
        "import time\n",
        "import sys\n",
        "import json\n",
        "\n",
        "from IPython import get_ipython\n",
        "get_ipython().system_raw('ngrok http 8000 &')\n",
        "time.sleep(1)\n",
        "curlOut = subprocess.check_output(['curl',\"http://localhost:4040/api/tunnels\"],universal_newlines=True)\n",
        "time.sleep(1)\n",
        "ngrokURL = json.loads(curlOut)['tunnels'][0]['public_url']\n",
        "%store ngrokURL\n",
        "print(ngrokURL)"
      ]
    },
    {
      "cell_type": "code",
      "execution_count": null,
      "metadata": {
        "colab": {
          "base_uri": "https://localhost:8080/"
        },
        "id": "V0nn-tvKwooe",
        "outputId": "24eca794-e274-4019-e601-af0491503e7c"
      },
      "outputs": [],
      "source": [
        "import requests\n",
        "%store -r ngrokURL\n",
        "\n",
        "response = requests.post(ngrokURL+'/chat/bot', json={\"ip\":\"generate a recipe with rice batter, oil, chilli powde\"}, headers={\"Content-Type\": \"application/json\"})\n",
        "# response = requests.post(ngrokURL+'/hello', json={\"ip\":\"generate a recipe with rice batter, oil, chilli powder\"}, headers={\"Content-Type\": \"application/json\"})\n",
        "\n",
        "if response.status_code == 200:\n",
        "    result = response.json()\n",
        "    print(result)\n",
        "else:\n",
        "    print(\"Request failed with status code:\", response.status_code)"
      ]
    },
    {
      "cell_type": "code",
      "execution_count": null,
      "metadata": {
        "colab": {
          "base_uri": "https://localhost:8080/"
        },
        "id": "mwwSNF8-wq_8",
        "outputId": "9431f9e5-3f99-4673-93a3-021e9f80f730"
      },
      "outputs": [],
      "source": [
        "!pkill uvicorn\n",
        "!pkill ngrok\n",
        "!echo ok"
      ]
    },
    {
      "cell_type": "code",
      "execution_count": null,
      "metadata": {
        "id": "Pg2X9rckB86R"
      },
      "outputs": [],
      "source": [
        "def in_bet(s, word1, word2):\n",
        "    parts = s.split(word1, 1)\n",
        "    if len(parts) < 2:\n",
        "        return None, None, None\n",
        "    before = parts[0].strip()\n",
        "    rest = parts[1].strip()\n",
        "    parts = rest.split(word2, 1)\n",
        "    if len(parts) < 2:\n",
        "        return before, None, rest\n",
        "    between = parts[0].strip()\n",
        "    after = parts[1].strip()\n",
        "    return before, between, after"
      ]
    },
    {
      "cell_type": "code",
      "execution_count": null,
      "metadata": {
        "id": "N_ZrSZdd66Fd"
      },
      "outputs": [],
      "source": [
        "data=\"\"\"<user>user:\\ngenerate a recipe for butterscotch cake\\n<assistant>assistant:\\n* butterscotch cake\\n Ingredients:\\n- 1 (2 1/2-pound) loaf Italian semolina bread\\n- 1/2 cup quick-set gelatin\\n- 4 cups whole milk\\n- 4 cups (1 1/2 sticks) unsalted butter\\n- 3/4 cup granulated sugar\\n- 1/2 cup (1 stick) unsalted butter\\n- 2 cups (4 sticks) unsweetened cottage cheese 1/2 tsp vanilla extract\\n- 2 large eggs\\n- 1 teaspoon vanilla 2 cups all-purpose flour\\n- 1/2 teaspoon baking soda\\n- 1/2 teaspoon salt\\n- 1/2 cup unsalted butter\\n- 1/2 cup (1 stick) unsalted butter\\n- 1/2 cup granulated sugar\\n- 1 egg\\n- 1 tsp vanilla extract\\n- 1 (10-ounce container) cream cheese\\n- 1 tsp vanilla extract\\n- 1/2 cup (1 stick) unsalted butter\\n- 2 cups (3 sticks) granulated sugar\\n- 4 tbsp all-purpose flour\\n- 1/2 tsp baking soda\\n- 1/4 tsp nutmeg\\n- 2 tsp rum\\n- 1 tsp caramel coloring\\n\\ninstructions:\\n\\n1. prepare the brown sugar/butter mixture. In a heatproof bowl, whisk together 3/4 cup light brown sugar and 1/2 cup water. 2. In another bowl, whisk together 2 cups granulated sugar and 1 egg. Prepare the lining and ruffle. 3. In a medium oven-safe skillet, melt the remaining 2 cups dark brown sugar over low heat, stirring constantly, just until it melted. 4. While continuing to stir, heat the rum in a measuring cup. 5. In a large bowl, stir the melted butter, caramel coloring, vanilla, and cornstarch. Stir with a whisk until mixed. Stir in the warm rum and the cream cheese. 6. Add the butter, brown sugar, cottage cheese, and yeast mixture to the melted butter mixture. Stir until well combined. 7. Mix the dry ingredients (flour, baking soda, nutmeg)and salt in a separate bowl. Stir into the ingredients. 8. Pour the wet mixture into the dry mixture. 9. Use immediately or chill until solid. 10. To bind the cake, pour half of the mixture into a buttered 9x13 inch baking dish. 11. Use the remaining egg whites to form a meringue, letting them sit for a full 15 minutes. Use a wooden spoon to fold in the whipped eggs. 12. Pour the egg whites on top of the cake mixture leaving a small border for wrapping. 13. Bake at 325 degrees for 45-60 minutes or until the cake is lightly golden brown on top. 14. Cool completely before frosting. 15. Top with brown sugar, butter, and cinnamon for a butterscotch topping. Enjoy!\"\"\""
      ]
    },
    {
      "cell_type": "code",
      "execution_count": null,
      "metadata": {
        "colab": {
          "base_uri": "https://localhost:8080/"
        },
        "id": "XFdKvGtX7IZW",
        "outputId": "c6eab6e3-ab9a-4f1a-d467-fd70a4f1e804"
      },
      "outputs": [],
      "source": [
        "import re\n",
        "\n",
        "data = \"\"\"<user>user:\\ngenerate a recipe for butterscotch cake\\n<assistant>assistant:\\n* butterscotch cake\\n Ingredients:\\n- 1 (2 1/2-pound) loaf Italian semolina bread\\n- 1/2 cup quick-set gelatin\\n- 4 cups whole milk\\n- 4 cups (1 1/2 sticks) unsalted butter\\n- 3/4 cup granulated sugar\\n- 1/2 cup (1 stick) unsalted butter\\n- 2 cups (4 sticks) unsweetened cottage cheese 1/2 tsp vanilla extract\\n- 2 large eggs\\n- 1 teaspoon vanilla 2 cups all-purpose flour\\n- 1/2 teaspoon baking soda\\n- 1/2 teaspoon salt\\n- 1/2 cup unsalted butter\\n- 1/2 cup (1 stick) unsalted butter\\n- 1/2 cup granulated sugar\\n- 1 egg\\n- 1 tsp vanilla extract\\n- 1 (10-ounce container) cream cheese\\n- 1 tsp vanilla extract\\n- 1/2 cup (1 stick) unsalted butter\\n- 2 cups (3 sticks) granulated sugar\\n- 4 tbsp all-purpose flour\\n- 1/2 tsp baking soda\\n- 1/4 tsp nutmeg\\n- 2 tsp rum\\n- 1 tsp caramel coloring\\n\\ninstructions:\\n\\n1. prepare the brown sugar/butter mixture. In a heatproof bowl, whisk together 3/4 cup light brown sugar and 1/2 cup water. 2. In another bowl, whisk together 2 cups granulated sugar and 1 egg. Prepare the lining and ruffle. 3. In a medium oven-safe skillet, melt the remaining 2 cups dark brown sugar over low heat, stirring constantly, just until it melted. 4. While continuing to stir, heat the rum in a measuring cup. 5. In a large bowl, stir the melted butter, caramel coloring, vanilla, and cornstarch. Stir with a whisk until mixed. Stir in the warm rum and the cream cheese. 6. Add the butter, brown sugar, cottage cheese, and yeast mixture to the melted butter mixture. Stir until well combined. 7. Mix the dry ingredients (flour, baking soda, nutmeg)and salt in a separate bowl. Stir into the ingredients. 8. Pour the wet mixture into the dry mixture. 9. Use immediately or chill until solid. 10. To bind the cake, pour half of the mixture into a buttered 9x13 inch baking dish. 11. Use the remaining egg whites to form a meringue, letting them sit for a full 15 minutes. Use a wooden spoon to fold in the whipped eggs. 12. Pour the egg whites on top of the cake mixture leaving a small border for wrapping. 13. Bake at 325 degrees for 45-60 minutes or until the cake is lightly golden brown on top. 14. Cool completely before frosting. 15. Top with brown sugar, butter, and cinnamon for a butterscotch topping. Enjoy!\"\"\"\n",
        "user_data = data.split(\"<user>\")[1].split(\"<assistant>\")[0].strip()\n",
        "_,disc,_ = in_bet(data,\"<assistant>assistant:\",\"Ingredients:\")\n",
        "ingredisnt = data.split(\"Ingredients:\")[1].strip()\n",
        "# instruct = data.split(\"instructions: \")[1].strip()\n",
        "\n",
        "ingredients = []\n",
        "for line in ingredisnt.splitlines():\n",
        "    if(line ==  'instructions:'):\n",
        "        break\n",
        "    ingredients.append(line)\n",
        "\n",
        "instructions = []\n",
        "steps = re.split(r'\\d+\\.\\s+', data)\n",
        "instructions = [f\"{i}. {step.strip()}\" for i, step in enumerate(steps) if step.strip()]\n",
        "\n",
        "recipe = {\n",
        "    \"disctiption\": disc,\n",
        "    'ingredients': ingredients,\n",
        "    'instructions': instructions\n",
        "}"
      ]
    },
    {
      "cell_type": "code",
      "execution_count": null,
      "metadata": {
        "colab": {
          "base_uri": "https://localhost:8080/"
        },
        "id": "ZB7__3hi_Yxv",
        "outputId": "511eb791-d37d-4c2c-f9b0-94ee62817079"
      },
      "outputs": [],
      "source": [
        "recipe"
      ]
    },
    {
      "cell_type": "code",
      "execution_count": null,
      "metadata": {
        "colab": {
          "base_uri": "https://localhost:8080/"
        },
        "id": "-7kabXHsckiT",
        "outputId": "28d6cd5c-6bac-4237-a665-3942d07c87d7"
      },
      "outputs": [],
      "source": [
        "resp=\"\"\"<user>user:\n",
        "generate a recipe with rice batter, oil, chilli powder\n",
        "<assistant>assistant:\n",
        "1 cup all-purpose rice flour\n",
        "1/2 cup brown sugar\n",
        "1/2 teaspoon cinnamon\n",
        "1/2 teaspoon salt\n",
        "1/4 teaspoon ground cumin\n",
        "1/4 teaspoon ground coriander\n",
        "1/2 cup vegetable oil\n",
        "1/2 cup chili powder\n",
        "1/2 teaspoon smoked paprika\n",
        "1/2 teaspoon garlic powder\n",
        "1 lime, juiced\n",
        "Heat the oil in a wok over high heat. Slowly stir in the rice flour. Cook until the flour is foamy.\n",
        "Stir in the cumin, coriander, cinnamon, cayenne, chili powder, salt and smoked chili powder. Pour in the lime juice. Stir constantly until the mixture is thick and well blended. Allow to cool slightly.\n",
        "Whisk in the oils to create a smooth batter.\n",
        "Serve dumplings in coconut water for dipping.\n",
        "\"\"\"\n"
      ]
    },
    {
      "cell_type": "code",
      "execution_count": null,
      "metadata": {
        "id": "1Gqwnooecmgg"
      },
      "outputs": [],
      "source": [
        "\n"
      ]
    },
    {
      "cell_type": "code",
      "execution_count": null,
      "metadata": {
        "colab": {
          "base_uri": "https://localhost:8080/"
        },
        "id": "B7z3UsvYrhDy",
        "outputId": "37450879-c7dc-4a22-9632-caa1e6187488"
      },
      "outputs": [],
      "source": [
        "res"
      ]
    }
  ],
  "metadata": {
    "accelerator": "GPU",
    "colab": {
      "gpuType": "T4",
      "provenance": []
    },
    "kernelspec": {
      "display_name": "Python 3",
      "name": "python3"
    },
    "language_info": {
      "name": "python"
    },
    "widgets": {
      "application/vnd.jupyter.widget-state+json": {
        "060eb95b67e44c91aca9adfc82937f89": {
          "model_module": "@jupyter-widgets/base",
          "model_module_version": "1.2.0",
          "model_name": "LayoutModel",
          "state": {
            "_model_module": "@jupyter-widgets/base",
            "_model_module_version": "1.2.0",
            "_model_name": "LayoutModel",
            "_view_count": null,
            "_view_module": "@jupyter-widgets/base",
            "_view_module_version": "1.2.0",
            "_view_name": "LayoutView",
            "align_content": null,
            "align_items": null,
            "align_self": null,
            "border": null,
            "bottom": null,
            "display": null,
            "flex": null,
            "flex_flow": null,
            "grid_area": null,
            "grid_auto_columns": null,
            "grid_auto_flow": null,
            "grid_auto_rows": null,
            "grid_column": null,
            "grid_gap": null,
            "grid_row": null,
            "grid_template_areas": null,
            "grid_template_columns": null,
            "grid_template_rows": null,
            "height": null,
            "justify_content": null,
            "justify_items": null,
            "left": null,
            "margin": null,
            "max_height": null,
            "max_width": null,
            "min_height": null,
            "min_width": null,
            "object_fit": null,
            "object_position": null,
            "order": null,
            "overflow": null,
            "overflow_x": null,
            "overflow_y": null,
            "padding": null,
            "right": null,
            "top": null,
            "visibility": null,
            "width": null
          }
        },
        "381f9563bcb04be98ed10ea472536fab": {
          "model_module": "@jupyter-widgets/controls",
          "model_module_version": "1.5.0",
          "model_name": "HTMLModel",
          "state": {
            "_dom_classes": [],
            "_model_module": "@jupyter-widgets/controls",
            "_model_module_version": "1.5.0",
            "_model_name": "HTMLModel",
            "_view_count": null,
            "_view_module": "@jupyter-widgets/controls",
            "_view_module_version": "1.5.0",
            "_view_name": "HTMLView",
            "description": "Server is Starting Up... Elapsed Time:",
            "description_tooltip": null,
            "layout": "IPY_MODEL_060eb95b67e44c91aca9adfc82937f89",
            "placeholder": "​",
            "style": "IPY_MODEL_4fa69c23320b4665a15a8d262088cecd",
            "value": "32 Seconds"
          }
        },
        "4fa69c23320b4665a15a8d262088cecd": {
          "model_module": "@jupyter-widgets/controls",
          "model_module_version": "1.5.0",
          "model_name": "DescriptionStyleModel",
          "state": {
            "_model_module": "@jupyter-widgets/controls",
            "_model_module_version": "1.5.0",
            "_model_name": "DescriptionStyleModel",
            "_view_count": null,
            "_view_module": "@jupyter-widgets/base",
            "_view_module_version": "1.2.0",
            "_view_name": "StyleView",
            "description_width": "initial"
          }
        }
      }
    }
  },
  "nbformat": 4,
  "nbformat_minor": 0
}
